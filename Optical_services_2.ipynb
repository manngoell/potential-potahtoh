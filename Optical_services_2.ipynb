{
 "cells": [
  {
   "cell_type": "code",
   "execution_count": null,
   "id": "1208da91",
   "metadata": {},
   "outputs": [
    {
     "name": "stdout",
     "output_type": "stream",
     "text": [
      "Values before ',' retained in column 'C' and values after ',' written to column 'D' in sheet '100GE Clients'.\n"
     ]
    }
   ],
   "source": [
    "import openpyxl\n",
    "\n",
    "def process_excel_file(file_path, sheet_name):\n",
    "    try:\n",
    "        # Load the workbook\n",
    "        workbook = openpyxl.load_workbook(file_path)\n",
    "        \n",
    "        # Select the specified sheet\n",
    "        if sheet_name not in workbook.sheetnames:\n",
    "            print(f\"Sheet '{sheet_name}' not found in the workbook.\")\n",
    "            return\n",
    "        \n",
    "        sheet = workbook[sheet_name]\n",
    "        \n",
    "        # Iterate through column C (3rd column) starting from row 2 (to skip headers)\n",
    "        for row in sheet.iter_rows(min_row=2, max_row=sheet.max_row, min_col=3, max_col=3):\n",
    "            for cell in row:\n",
    "                if cell.value and isinstance(cell.value, str):  # Check if cell contains a string\n",
    "                    # Remove spaces from the cell value\n",
    "                    cleaned_value = cell.value.replace(\" \", \"\")\n",
    "                    \n",
    "                    # Split the value by comma\n",
    "                    if \",\" in cleaned_value:\n",
    "                        split_values = cleaned_value.split(\",\", 1)  # Split into two parts only\n",
    "                        if len(split_values) > 1:\n",
    "                            # Update column C with the value before the comma\n",
    "                            cell.value = split_values[0]\n",
    "                            \n",
    "                            # Write the value after the comma into column D\n",
    "                            sheet.cell(row=cell.row, column=4, value=split_values[1])\n",
    "        \n",
    "        # Save the workbook\n",
    "        workbook.save(file_path)\n",
    "        print(f\"Values before ',' retained in column 'C' and values after ',' written to column 'D' in sheet '{sheet_name}'.\")\n",
    "    \n",
    "    except Exception as e:\n",
    "        print(f\"An error occurred: {e}\")\n",
    "\n",
    "# File path and sheet name\n",
    "file_path = r\"C:\\Users\\mangoel\\OneDrive - Ciena Corporation\\WLP_automation_folder\\Filtered_OPTICAL_SERVICES_REPORT - Copy.xlsx\"\n",
    "sheet_name = \"100GE Clients\"\n",
    "\n",
    "# Call the function\n",
    "process_excel_file(file_path, sheet_name)"
   ]
  }
 ],
 "metadata": {
  "kernelspec": {
   "display_name": "Python 3",
   "language": "python",
   "name": "python3"
  },
  "language_info": {
   "codemirror_mode": {
    "name": "ipython",
    "version": 3
   },
   "file_extension": ".py",
   "mimetype": "text/x-python",
   "name": "python",
   "nbconvert_exporter": "python",
   "pygments_lexer": "ipython3",
   "version": "3.12.10"
  }
 },
 "nbformat": 4,
 "nbformat_minor": 5
}
